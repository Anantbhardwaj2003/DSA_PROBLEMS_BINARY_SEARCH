{
 "cells": [
  {
   "cell_type": "markdown",
   "id": "61d62e71-ec0b-4370-8c69-a38d0edfacb3",
   "metadata": {},
   "source": [
    "# Shinchan and Kazama\n",
    "<b>Shinchan and Kazama are classmates at Futaba Kindergartan. I-chan likes shinchan, more than Kazama. Kazama wants to prove to I-chan that he is smarter than shinchan, so he tries to boast his knowledge about numbers in front of her. He takes an sorted array of N integers, and asks I-chan for a number K. If the number exists in the array,he will return the index where the number is present, else he returns the index where it would be if it were inserted in order. This task seems to be very difficult for kamaza, so he asks you for help. Help him, or else he will lose his friendship with I-chan.\n",
    "This is the description.</b>\n",
    "\n",
    "Now I write the input description:\n",
    "The first line contains N, the size of the array.Next line contains N space separated integers, indicating the values in the array. Next line contains K,the value I-chan gave to search.\n",
    "Constraints:\n",
    "1<=N<=10^4\n",
    "-10^4<=array[i]<=10^4 nums contains distinct values sorted in ascending order.\n",
    "-10^4<=K<=10^4\n",
    "\n",
    "Output description:\n",
    "Print a single integer denoting the position of K in the array. If present,else indicating the position where it would be if inserted in sorted order."
   ]
  },
  {
   "cell_type": "code",
   "execution_count": 1,
   "id": "560b64a6-07ed-416b-a97d-a8d7238b1224",
   "metadata": {},
   "outputs": [
    {
     "name": "stdin",
     "output_type": "stream",
     "text": [
      " 5\n",
      " 1 3 5 6 7\n",
      " 4\n"
     ]
    },
    {
     "name": "stdout",
     "output_type": "stream",
     "text": [
      "2\n"
     ]
    }
   ],
   "source": [
    "def find_position(nums, K):\n",
    "    left, right = 0, len(nums) - 1\n",
    "    \n",
    "    while left <= right:\n",
    "        mid = (left + right) // 2\n",
    "        \n",
    "        if nums[mid] == K:\n",
    "            return mid  # K is found, return its index\n",
    "        elif nums[mid] < K:\n",
    "            left = mid + 1  # Search in the right half\n",
    "        else:\n",
    "            right = mid - 1  # Search in the left half\n",
    "    \n",
    "    # If not found, left is the index where K should be inserted\n",
    "    return left\n",
    "\n",
    "# Example usage:\n",
    "N = int(input().strip())\n",
    "nums = list(map(int, input().strip().split()))\n",
    "K = int(input().strip())\n",
    "\n",
    "position = find_position(nums, K)\n",
    "print(position)\n"
   ]
  },
  {
   "cell_type": "markdown",
   "id": "67a59f5b-0c50-45b6-8dbf-0881d97dda66",
   "metadata": {},
   "source": [
    "# Voyage together\n",
    "<b>You are given a list of N integers nums where each value represents a group of people looking to go on ship Voyage together. You are also given k representing the number of days the ship facility is open for. Return the minimum capacity of the ship you need to be able to fulfill all requests in k days.\n",
    "Note that requests should be fulfilled in the order they were given and a ship can only have one trip per day, also there always exists an answer.\n",
    "Important: You cannot break a group into smaller group, e.g. if group size is 15, you cannot break it into smaller group these 15 people will go together.\n",
    "This is description.</b>\n",
    "\n",
    "Now I write the input description:\n",
    "Input format:\n",
    "The first line will contain T, number of test cases The second line of  input will conntain N, K: denoting number of groups and Number of days for whcih facility is open respectively The third line will contain N integers a1,a2,a3.........an: denoting the group sizes of people who are going on voyage together.\n",
    "Constraints:\n",
    "1<=T<=20\n",
    "1<=N<=10^5\n",
    "1<=K<=10^6\n",
    "1<=ai<=10^3\n",
    "\n",
    "Output Description:\n",
    "For each test case, output a single integer denoting the minimum capacity of ship required to complete voyage of groups within K days in a new line."
   ]
  },
  {
   "cell_type": "code",
   "execution_count": 2,
   "id": "dc767030-fb5a-4142-8ee0-9fbdd78a3528",
   "metadata": {},
   "outputs": [
    {
     "name": "stdin",
     "output_type": "stream",
     "text": [
      " 1\n",
      " 5 3\n",
      " 13 17 30 15 17\n"
     ]
    },
    {
     "name": "stdout",
     "output_type": "stream",
     "text": [
      "32\n"
     ]
    }
   ],
   "source": [
    "def can_transport_with_capacity(groups, k, capacity):\n",
    "    days = 1\n",
    "    current_load = 0\n",
    "    \n",
    "    for group in groups:\n",
    "        if current_load + group > capacity:\n",
    "            days += 1\n",
    "            current_load = group\n",
    "            if days > k:\n",
    "                return False\n",
    "        else:\n",
    "            current_load += group\n",
    "    \n",
    "    return True\n",
    "\n",
    "def minimum_ship_capacity(n, k, groups):\n",
    "    low = max(groups)\n",
    "    high = sum(groups)\n",
    "    \n",
    "    while low < high:\n",
    "        mid = (low + high) // 2\n",
    "        if can_transport_with_capacity(groups, k, mid):\n",
    "            high = mid\n",
    "        else:\n",
    "            low = mid + 1\n",
    "            \n",
    "    return low\n",
    "\n",
    "# Example usage:\n",
    "t = int(input().strip())\n",
    "for _ in range(t):\n",
    "    n, k = map(int, input().strip().split())\n",
    "    groups = list(map(int, input().strip().split()))\n",
    "    print(minimum_ship_capacity(n, k, groups))\n"
   ]
  },
  {
   "cell_type": "markdown",
   "id": "70f20723-e14d-4e20-b046-169b2aab48de",
   "metadata": {},
   "source": [
    "# Painter's Partition Problems\n",
    "<b>Given an array A of n wooden boards where the ith board has Ai length. We need to paint all the n boards and we have p painters available for the work and each takes 1 unit time to paint 1 unit of the board. Two painters cannot share a board to paint. So for example, if the ith board is painted by some painter, then he will complete the painting. A board cannot be painted partially by one painter and partially by another. Any painter will only paint continous sectons of boards, i.e. if the painter paints a range [l,r], then he paints all the boards within that interval. For example- Consider 5 boards numbered from 1 to 5, then the painter can not paint the board [2,4,5]. Calculate the minimum time to complete this job.\n",
    "This is the input Description.</b>\n",
    "\n",
    "Now I write the input description:\n",
    "The first line of the input contains one integer t(1<=t<=10)-the no. of test cases. Then t test cases follow.\n",
    "The first line of each test case contains 2 integers n(1<=n<=100000) and p(1<=p<=1000).\n",
    "The second line of each test case contains n integers (1<=Ai<=100000)-The elements of the array A.\n",
    "\n",
    "Output description:\n",
    "For each test case, print the answer: The minimum amount of time required to complete the job."
   ]
  },
  {
   "cell_type": "code",
   "execution_count": 3,
   "id": "76ac875e-8167-412d-bb44-6b74542e1692",
   "metadata": {},
   "outputs": [
    {
     "name": "stdin",
     "output_type": "stream",
     "text": [
      " 2\n",
      " 2 2\n",
      " 1 10\n"
     ]
    },
    {
     "name": "stdout",
     "output_type": "stream",
     "text": [
      "10\n"
     ]
    },
    {
     "name": "stdin",
     "output_type": "stream",
     "text": [
      " 4 10 \n",
      " 1 8 11 3\n"
     ]
    },
    {
     "name": "stdout",
     "output_type": "stream",
     "text": [
      "11\n"
     ]
    }
   ],
   "source": [
    "def is_feasible(boards, n, p, max_time):\n",
    "    total_time = 0\n",
    "    painters = 1\n",
    "    \n",
    "    for length in boards:\n",
    "        total_time += length\n",
    "        \n",
    "        if total_time > max_time:\n",
    "            # Assign to a new painter\n",
    "            painters += 1\n",
    "            total_time = length\n",
    "            \n",
    "            if painters > p:\n",
    "                return False\n",
    "            \n",
    "    return True\n",
    "\n",
    "def minimum_time(n, p, boards):\n",
    "    low = max(boards)\n",
    "    high = sum(boards)\n",
    "    \n",
    "    while low < high:\n",
    "        mid = (low + high) // 2\n",
    "        if is_feasible(boards, n, p, mid):\n",
    "            high = mid\n",
    "        else:\n",
    "            low = mid + 1\n",
    "            \n",
    "    return low\n",
    "\n",
    "# Example usage with input handling:\n",
    "t = int(input())  # Number of test cases\n",
    "\n",
    "for _ in range(t):\n",
    "    n, p = map(int, input().split())\n",
    "    boards = list(map(int, input().split()))\n",
    "    \n",
    "    result = minimum_time(n, p, boards)\n",
    "    print(result)\n"
   ]
  },
  {
   "cell_type": "markdown",
   "id": "10922f05-6e33-4f97-96ef-22bb6210f273",
   "metadata": {},
   "source": [
    "# Square root of an integer\n",
    "<b>You are given an integer N, find the square root of the given integer N. If the integer is not a perfect square, print the floor value of the given integer. Note: The floor value is the largest integer value lesser than a given number K. For exampe, if the value of K=3.679, the floor value of K is 3.\n",
    "This is the description</b>\n",
    "\n",
    "Now I write the input description:\n",
    "The first line of the input contains T, the number of test cases.\n",
    "The first and the only line of each test case contains, N, the value of the given integer\n",
    "Constraints:\n",
    "1<=T<=1000000\n",
    "0<=N<=1000000000\n",
    "\n",
    "Output Description:\n",
    "For each test case, print the square root of the integer N given if it is a perfect square, else print the floor value of it, on a new line."
   ]
  },
  {
   "cell_type": "code",
   "execution_count": 8,
   "id": "891506bc-f8ef-4ced-8163-c6b374e638e4",
   "metadata": {},
   "outputs": [
    {
     "name": "stdout",
     "output_type": "stream",
     "text": [
      "\n"
     ]
    }
   ],
   "source": [
    "import sys\n",
    "import math\n",
    "\n",
    "def solve_sqrt_problem():\n",
    "    input = sys.stdin.read\n",
    "    data = input().split()\n",
    "    results = []\n",
    "    \n",
    "    for i in range(1, len(data)):\n",
    "        N = int(data[i])\n",
    "        sqrt_value = int(math.isqrt(N))\n",
    "        results.append(str(sqrt_value))\n",
    "    \n",
    "    sys.stdout.write(\"\\n\".join(results) + \"\\n\")\n",
    "\n",
    "# Function call\n",
    "solve_sqrt_problem()"
   ]
  },
  {
   "cell_type": "code",
   "execution_count": null,
   "id": "5c450572-e5b7-4195-9417-9c7f19c862a2",
   "metadata": {},
   "outputs": [],
   "source": []
  }
 ],
 "metadata": {
  "kernelspec": {
   "display_name": "Python 3 (ipykernel)",
   "language": "python",
   "name": "python3"
  },
  "language_info": {
   "codemirror_mode": {
    "name": "ipython",
    "version": 3
   },
   "file_extension": ".py",
   "mimetype": "text/x-python",
   "name": "python",
   "nbconvert_exporter": "python",
   "pygments_lexer": "ipython3",
   "version": "3.11.5"
  }
 },
 "nbformat": 4,
 "nbformat_minor": 5
}
